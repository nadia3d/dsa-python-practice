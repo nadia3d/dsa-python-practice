{
 "cells": [
  {
   "cell_type": "code",
   "execution_count": 1,
   "metadata": {},
   "outputs": [],
   "source": [
    "def identity(x):\n",
    "    return x"
   ]
  },
  {
   "cell_type": "code",
   "execution_count": 2,
   "metadata": {},
   "outputs": [],
   "source": [
    "def square(x):\n",
    "    return x*x"
   ]
  },
  {
   "cell_type": "code",
   "execution_count": 3,
   "metadata": {},
   "outputs": [],
   "source": [
    "def nexter(x):\n",
    "    return x+1"
   ]
  },
  {
   "cell_type": "code",
   "execution_count": 4,
   "metadata": {},
   "outputs": [
    {
     "name": "stdout",
     "output_type": "stream",
     "text": [
      "3\n",
      "4\n"
     ]
    }
   ],
   "source": [
    "def perform(arg,procedure):\n",
    "    return procedure(arg)\n",
    "\n",
    "def incr(a):\n",
    "    return a+1\n",
    "\n",
    "def double(a):\n",
    "    return a+a\n",
    "\n",
    "print(perform(2,incr))\n",
    "print(perform(2,double))"
   ]
  },
  {
   "cell_type": "code",
   "execution_count": 5,
   "metadata": {},
   "outputs": [
    {
     "name": "stdout",
     "output_type": "stream",
     "text": [
      "6\n"
     ]
    }
   ],
   "source": [
    "def sum_int(a,b):\n",
    "    if a > b:\n",
    "        return 0\n",
    "    else: return identity(a) + sum_int(nexter(a),b)\n",
    "\n",
    "result = sum_int(0,3)\n",
    "print(result)"
   ]
  },
  {
   "cell_type": "code",
   "execution_count": 6,
   "metadata": {},
   "outputs": [
    {
     "name": "stdout",
     "output_type": "stream",
     "text": [
      "14\n"
     ]
    }
   ],
   "source": [
    "def sum_squares(a, b):\n",
    "    if a > b:\n",
    "        return 0\n",
    "    else:\n",
    "        return square(a) + sum_squares(nexter(a), b)\n",
    "\n",
    "result = sum_squares(1,3)\n",
    "print(result)"
   ]
  },
  {
   "cell_type": "markdown",
   "metadata": {},
   "source": [
    "## Sum Series Recursive"
   ]
  },
  {
   "cell_type": "code",
   "execution_count": 7,
   "metadata": {},
   "outputs": [],
   "source": [
    "def sum_rec(term, start_index, next, end_index):\n",
    "    if start_index > end_index:\n",
    "        return 0\n",
    "    else:\n",
    "        return term(start_index)+(sum_rec(term,next(start_index), next, end_index))"
   ]
  },
  {
   "cell_type": "code",
   "execution_count": 8,
   "metadata": {},
   "outputs": [
    {
     "name": "stdout",
     "output_type": "stream",
     "text": [
      "14\n",
      "10\n"
     ]
    }
   ],
   "source": [
    "def sum_squares_rec(a,b):\n",
    "    return sum_rec(square,a,nexter,b)\n",
    "\n",
    "def sum_int_rec(a,b):\n",
    "    return sum_rec(identity,a,nexter,b)\n",
    "\n",
    "print(sum_squares_rec(1,3))\n",
    "print(sum_int_rec(1,4))"
   ]
  },
  {
   "cell_type": "markdown",
   "metadata": {},
   "source": [
    "## Sum Series Iterative"
   ]
  },
  {
   "cell_type": "code",
   "execution_count": 9,
   "metadata": {},
   "outputs": [
    {
     "name": "stdout",
     "output_type": "stream",
     "text": [
      "14\n",
      "10\n"
     ]
    }
   ],
   "source": [
    "def sum_iter(term,start_index,next,end_index):\n",
    "    def iter(current_index,current_sum):\n",
    "        if current_index > end_index:\n",
    "            return current_sum\n",
    "        else: \n",
    "            return iter(next(current_index),term(current_index)+current_sum)\n",
    "        \n",
    "    return iter(start_index,0)\n",
    "\n",
    "print(sum_iter(square,1,nexter,3))\n",
    "print(sum_iter(identity,1,nexter,4))"
   ]
  },
  {
   "cell_type": "markdown",
   "metadata": {},
   "source": [
    "#### Sum Series Iterative 2 (does not \"look\" like recursion):"
   ]
  },
  {
   "cell_type": "code",
   "execution_count": 10,
   "metadata": {},
   "outputs": [
    {
     "name": "stdout",
     "output_type": "stream",
     "text": [
      "14\n",
      "10\n"
     ]
    }
   ],
   "source": [
    "def sum_iter_v_two(term, start_index, next, end_index):\n",
    "    current_index, current_sum = start_index, 0\n",
    "\n",
    "    while current_index <= end_index:\n",
    "        current_sum += term(current_index)\n",
    "        current_index = next(current_index)\n",
    "\n",
    "    return current_sum\n",
    "\n",
    "print(sum_iter_v_two(square,1,nexter,3))\n",
    "print(sum_iter_v_two(identity,1,nexter,4))\n"
   ]
  },
  {
   "cell_type": "markdown",
   "metadata": {},
   "source": [
    "## Square Root Heron's Aproximation"
   ]
  },
  {
   "cell_type": "code",
   "execution_count": 11,
   "metadata": {},
   "outputs": [],
   "source": [
    "def average(x,y):\n",
    "    return (x+y)/2"
   ]
  },
  {
   "cell_type": "code",
   "execution_count": 12,
   "metadata": {},
   "outputs": [],
   "source": [
    "def avg_damp(function):\n",
    "    return lambda x: average(function(x),x)"
   ]
  },
  {
   "cell_type": "markdown",
   "metadata": {},
   "source": [
    "#### Average damp no lambda notation:"
   ]
  },
  {
   "cell_type": "code",
   "execution_count": 13,
   "metadata": {},
   "outputs": [],
   "source": [
    "def avg_damp_v_2(function):\n",
    "    def new_function(x):\n",
    "        return average(function(x),x)\n",
    "    return new_function"
   ]
  },
  {
   "cell_type": "code",
   "execution_count": 14,
   "metadata": {},
   "outputs": [],
   "source": [
    "def fixed_point(function, starting_value):\n",
    "\n",
    "    def close_enuf(u, v):\n",
    "        tolerance = 0.00001\n",
    "        return abs(u-v) < tolerance\n",
    "    \n",
    "    old_val,new_val = starting_value, function(starting_value)\n",
    "\n",
    "    while not close_enuf(old_val,new_val):\n",
    "        old_val,new_val = new_val, function(new_val)\n",
    "    \n",
    "    return round(new_val,3)\n",
    "\n",
    "    # def iter(old_val, new_val):\n",
    "    #     if close_enuf(old_val, new_val):\n",
    "    #         return round(new_val, 3)\n",
    "    #     else:\n",
    "    #         return iter(new_val, function(new_val))\n",
    "    # return iter(starting_value, function(starting_value))"
   ]
  },
  {
   "cell_type": "code",
   "execution_count": 15,
   "metadata": {},
   "outputs": [
    {
     "name": "stdout",
     "output_type": "stream",
     "text": [
      "5.0\n",
      "5.0\n"
     ]
    }
   ],
   "source": [
    "\n",
    "def sqrt(x):\n",
    "    return fixed_point((lambda y: average(x/y,y)), 1)\n",
    "\n",
    "def sqrt_v_two(x):\n",
    "    return fixed_point(avg_damp(lambda y: x/y), 1)\n",
    "\n",
    "\n",
    "print(sqrt(25))\n",
    "print(sqrt_v_two(25))"
   ]
  },
  {
   "cell_type": "markdown",
   "metadata": {},
   "source": [
    "## Square Root Newton's Method"
   ]
  },
  {
   "cell_type": "code",
   "execution_count": 25,
   "metadata": {},
   "outputs": [
    {
     "name": "stdout",
     "output_type": "stream",
     "text": [
      "3.0\n"
     ]
    }
   ],
   "source": [
    "def sqrt_newt(x):\n",
    "    def func(y):\n",
    "        return x - square(y)\n",
    "    return newt(func,1)\n",
    "    # return newt((lambda y: x - square(y)), 1)\n",
    "\n",
    "\n",
    "def derivative(function):\n",
    "    dx = 0.000001\n",
    "    return lambda x: (function(x+dx)-function(x))/dx\n",
    "\n",
    "\n",
    "def newt(function, guess):\n",
    "    df = derivative(function)\n",
    "    return fixed_point(lambda x: x - (function(x) / df(x)), guess)\n",
    "\n",
    "\n",
    "print(sqrt_newt(9))"
   ]
  }
 ],
 "metadata": {
  "kernelspec": {
   "display_name": "Python 3",
   "language": "python",
   "name": "python3"
  },
  "language_info": {
   "codemirror_mode": {
    "name": "ipython",
    "version": 3
   },
   "file_extension": ".py",
   "mimetype": "text/x-python",
   "name": "python",
   "nbconvert_exporter": "python",
   "pygments_lexer": "ipython3",
   "version": "3.11.6"
  }
 },
 "nbformat": 4,
 "nbformat_minor": 2
}
