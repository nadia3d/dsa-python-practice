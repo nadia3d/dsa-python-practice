{
 "cells": [
  {
   "cell_type": "markdown",
   "metadata": {},
   "source": [
    "### Imports"
   ]
  },
  {
   "cell_type": "code",
   "execution_count": 1,
   "metadata": {},
   "outputs": [],
   "source": [
    "\n",
    "from linked_list import LinkedList"
   ]
  },
  {
   "cell_type": "markdown",
   "metadata": {},
   "source": [
    "# Linked List"
   ]
  },
  {
   "cell_type": "markdown",
   "metadata": {},
   "source": [
    "### swap nodes"
   ]
  },
  {
   "cell_type": "code",
   "execution_count": 2,
   "metadata": {},
   "outputs": [],
   "source": [
    "def swap_nodes(input_list, val1, val2):\n",
    "  print(f'Swapping {val1} with {val2}')\n",
    "\n",
    "  node1_prev = None\n",
    "  node2_prev = None\n",
    "  node1 = input_list.head_node\n",
    "  node2 = input_list.head_node\n",
    "\n",
    "  if val1 == val2:\n",
    "    print(\"Elements are the same - no swap needed\")\n",
    "    return\n",
    "\n",
    "  while node1 is not None:\n",
    "    if node1.get_value() == val1:\n",
    "      break\n",
    "    node1_prev = node1\n",
    "    node1 = node1.get_next_node()\n",
    "\n",
    "  while node2 is not None:\n",
    "    if node2.get_value() == val2:\n",
    "      break\n",
    "    node2_prev = node2\n",
    "    node2 = node2.get_next_node()\n",
    "\n",
    "  if (node1 is None or node2 is None):\n",
    "    print(\"Swap not possible - one or more element is not in the list\")\n",
    "    return\n",
    "\n",
    "  if node1_prev is None:\n",
    "    input_list.head_node = node2\n",
    "  else:\n",
    "    node1_prev.set_next_node(node2)\n",
    "\n",
    "  if node2_prev is None:\n",
    "    input_list.head_node = node1\n",
    "  else:\n",
    "    node2_prev.set_next_node(node1)\n",
    "\n",
    "  temp = node1.get_next_node()\n",
    "  node1.set_next_node(node2.get_next_node())\n",
    "  node2.set_next_node(temp)\n"
   ]
  },
  {
   "cell_type": "markdown",
   "metadata": {},
   "source": [
    "### test swap nodes"
   ]
  },
  {
   "cell_type": "code",
   "execution_count": 3,
   "metadata": {},
   "outputs": [
    {
     "name": "stdout",
     "output_type": "stream",
     "text": [
      "9\n",
      "8\n",
      "7\n",
      "6\n",
      "5\n",
      "4\n",
      "3\n",
      "2\n",
      "1\n",
      "0\n",
      "\n",
      "Swapping 9 with 5\n",
      "5\n",
      "8\n",
      "7\n",
      "6\n",
      "9\n",
      "4\n",
      "3\n",
      "2\n",
      "1\n",
      "0\n",
      "\n"
     ]
    }
   ],
   "source": [
    "ll = LinkedList()\n",
    "for i in range(10):\n",
    "  ll.insert_beginning(i)\n",
    "\n",
    "print(ll.stringify_list())\n",
    "swap_nodes(ll, 9, 5)\n",
    "print(ll.stringify_list())"
   ]
  },
  {
   "cell_type": "markdown",
   "metadata": {},
   "source": [
    "### nth last node finder"
   ]
  },
  {
   "cell_type": "code",
   "execution_count": 4,
   "metadata": {},
   "outputs": [],
   "source": [
    "def nth_last_node(linked_list, n):\n",
    "  current = None\n",
    "  tail_seeker = linked_list.head_node\n",
    "  count = 0\n",
    "  while tail_seeker:\n",
    "    tail_seeker = tail_seeker.get_next_node()\n",
    "    count += 1\n",
    "    if count >= n + 1:\n",
    "      if current is None:\n",
    "        current = linked_list.head_node\n",
    "      else:\n",
    "        current = current.get_next_node()\n",
    "  return current"
   ]
  },
  {
   "cell_type": "markdown",
   "metadata": {},
   "source": [
    "### find middle #1"
   ]
  },
  {
   "cell_type": "code",
   "execution_count": 5,
   "metadata": {},
   "outputs": [],
   "source": [
    "def find_middle(linked_list):\n",
    "  slow = linked_list.head_node\n",
    "  fast = linked_list.head_node\n",
    "  while fast is not None and fast.get_next_node() is not None and fast.get_next_node().value: \n",
    "    slow = slow.get_next_node()\n",
    "    fast = fast.get_next_node().get_next_node()\n",
    "  return slow"
   ]
  },
  {
   "cell_type": "markdown",
   "metadata": {},
   "source": [
    "### find middle #2"
   ]
  },
  {
   "cell_type": "code",
   "execution_count": 6,
   "metadata": {},
   "outputs": [],
   "source": [
    "def find_middle_alt(linked_list):\n",
    "  count = 0\n",
    "  fast = linked_list.head_node\n",
    "  slow = linked_list.head_node\n",
    "  while fast.get_next_node() and fast.get_next_node().value:\n",
    "    if count % 2 == 0:\n",
    "      slow = slow.get_next_node()\n",
    "    count += 1\n",
    "    fast = fast.get_next_node()\n",
    "  return slow"
   ]
  },
  {
   "cell_type": "markdown",
   "metadata": {},
   "source": [
    "### generate test list helper function"
   ]
  },
  {
   "cell_type": "code",
   "execution_count": 7,
   "metadata": {},
   "outputs": [],
   "source": [
    "def generate_test_linked_list(length):\n",
    "  linked_list = LinkedList()\n",
    "  for i in range(length, 0, -1):\n",
    "    linked_list.insert_beginning(i)\n",
    "  return linked_list"
   ]
  },
  {
   "cell_type": "markdown",
   "metadata": {},
   "source": [
    "### test find nth last node"
   ]
  },
  {
   "cell_type": "code",
   "execution_count": 8,
   "metadata": {},
   "outputs": [
    {
     "name": "stdout",
     "output_type": "stream",
     "text": [
      "1\n",
      "2\n",
      "3\n",
      "4\n",
      "5\n",
      "6\n",
      "7\n",
      "8\n",
      "9\n",
      "10\n",
      "11\n",
      "12\n",
      "13\n",
      "14\n",
      "15\n",
      "16\n",
      "17\n",
      "18\n",
      "19\n",
      "20\n",
      "21\n",
      "22\n",
      "23\n",
      "\n",
      "21\n"
     ]
    }
   ],
   "source": [
    "test_list = generate_test_linked_list(23)\n",
    "print(test_list.stringify_list())\n",
    "nth_last = nth_last_node(test_list, 3)\n",
    "print(nth_last.value)"
   ]
  },
  {
   "cell_type": "markdown",
   "metadata": {},
   "source": [
    "### test find middle node"
   ]
  },
  {
   "cell_type": "code",
   "execution_count": 9,
   "metadata": {},
   "outputs": [
    {
     "name": "stdout",
     "output_type": "stream",
     "text": [
      "1\n",
      "2\n",
      "3\n",
      "4\n",
      "5\n",
      "6\n",
      "7\n",
      "\n",
      "4\n"
     ]
    }
   ],
   "source": [
    "test_list = generate_test_linked_list(7)\n",
    "print(test_list.stringify_list())\n",
    "middle_node = find_middle(test_list)\n",
    "print(middle_node.value)"
   ]
  },
  {
   "cell_type": "code",
   "execution_count": 10,
   "metadata": {},
   "outputs": [
    {
     "name": "stdout",
     "output_type": "stream",
     "text": [
      "1\n",
      "2\n",
      "3\n",
      "4\n",
      "5\n",
      "6\n",
      "7\n",
      "\n",
      "4\n"
     ]
    }
   ],
   "source": [
    "print(test_list.stringify_list())\n",
    "middle_node_alt = find_middle_alt(test_list)\n",
    "print(middle_node_alt.value)"
   ]
  }
 ],
 "metadata": {
  "kernelspec": {
   "display_name": "Python 3",
   "language": "python",
   "name": "python3"
  },
  "language_info": {
   "codemirror_mode": {
    "name": "ipython",
    "version": 3
   },
   "file_extension": ".py",
   "mimetype": "text/x-python",
   "name": "python",
   "nbconvert_exporter": "python",
   "pygments_lexer": "ipython3",
   "version": "3.11.6"
  }
 },
 "nbformat": 4,
 "nbformat_minor": 2
}
